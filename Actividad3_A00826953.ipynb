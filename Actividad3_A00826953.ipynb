{
  "nbformat": 4,
  "nbformat_minor": 0,
  "metadata": {
    "colab": {
      "provenance": [],
      "collapsed_sections": [
        "4uz4StnWtF2B"
      ]
    },
    "kernelspec": {
      "name": "python3",
      "display_name": "Python 3"
    },
    "language_info": {
      "name": "python"
    }
  },
  "cells": [
    {
      "cell_type": "markdown",
      "source": [
        "# ***Actividad 3*** | Aprendizaje supervisado y no supervisado\n",
        "\n",
        "Franco Quintanilla - A00826953"
      ],
      "metadata": {
        "id": "RVOLsjmZtF-9"
      }
    },
    {
      "cell_type": "markdown",
      "source": [
        "## 1. Introducción teórica"
      ],
      "metadata": {
        "id": "4uz4StnWtF2B"
      }
    },
    {
      "cell_type": "markdown",
      "source": [
        "El ML, o Aprendizaje de Máquina, tiene 3 principales vertientes, entre las cuales, las dos fundamentales son:\n",
        "\n",
        "*   Aprendizaje Supervisado: Decision Tree, Random Forest, Regresión Lineal, Regresión Logarítmica, GB, MLP.\n",
        "*   Aprendizaje No Supervisado: K-Means, Gaussian Mixture, PCA, DBSCAN.\n",
        "\n",
        "Su principal diferencia se encuentra en los mismos datos, si estos se encuentran explícitamente \"etiquetados\", o no.\n",
        "\n",
        "Los supervisados nos ayudan a identificar las características fundamentales entre las variables de entrada y las de salida. A diferencia, los no supervisados no contienen dichas etiquetas, por lo cual los algoritmos tratan de identificar patrones dentro de los datos para poder clasificar y agrupar los datos por características similares.\n",
        "\n",
        "\n",
        "En pyspark se encuentran disponibles la mayoría de estos mismos, en este caso, usaremos los siguientes algoritmos en específico.\n",
        "\n",
        "*   Aprendizaje Supervisado: Random Forest\n",
        "*   Aprendizaje No Supervisado: K-Means"
      ],
      "metadata": {
        "id": "VUGs2Bp1tlDa"
      }
    },
    {
      "cell_type": "markdown",
      "source": [
        "## 2. Selección de los datos"
      ],
      "metadata": {
        "id": "Z9vMbLhntfO1"
      }
    },
    {
      "cell_type": "code",
      "source": [
        "from google.colab import drive\n",
        "drive.mount('/content/drive')"
      ],
      "metadata": {
        "colab": {
          "base_uri": "https://localhost:8080/"
        },
        "id": "cc29OhZdr8sU",
        "outputId": "207f3dc3-110d-44d1-9afe-d4e7cde980e5"
      },
      "execution_count": 1,
      "outputs": [
        {
          "output_type": "stream",
          "name": "stdout",
          "text": [
            "Drive already mounted at /content/drive; to attempt to forcibly remount, call drive.mount(\"/content/drive\", force_remount=True).\n"
          ]
        }
      ]
    },
    {
      "cell_type": "code",
      "execution_count": 2,
      "metadata": {
        "id": "c3YT1MtprjIi"
      },
      "outputs": [],
      "source": [
        "from pyspark.sql import SparkSession\n",
        "from pyspark.sql import DataFrame\n",
        "from pyspark.sql.functions import col, isnan, when, count, count, when, isnan, col, mean, stddev, min, max, to_date, datediff, floor, approx_percentile\n",
        "import matplotlib.pyplot as plt\n",
        "import pandas as pd\n",
        "from functools import reduce\n",
        "from pyspark.ml.feature import StringIndexer, VectorAssembler\n",
        "from pyspark.ml.classification import RandomForestClassifier\n",
        "from pyspark.ml.clustering import KMeans\n",
        "from pyspark.ml.evaluation import MulticlassClassificationEvaluator, ClusteringEvaluator"
      ]
    },
    {
      "cell_type": "code",
      "source": [
        "spark = SparkSession.builder \\\n",
        "    .appName(\"Activiad3\") \\\n",
        "    .config(\"spark.driver.memory\", \"4g\")      \\\n",
        "    .config(\"spark.executor.memory\", \"8g\")    \\\n",
        "    .config(\"spark.memory.offHeap.enabled\", \"true\") \\\n",
        "    .config(\"spark.memory.offHeap.size\", \"2g\")      \\\n",
        "    .getOrCreate()"
      ],
      "metadata": {
        "id": "qjicLtsYrwDh"
      },
      "execution_count": 3,
      "outputs": []
    },
    {
      "cell_type": "code",
      "source": [
        "df = spark.read.csv(\"/content/drive/MyDrive/Colab Notebooks/MNA/3T/Big Data/CSV/mxmortality.csv\",\n",
        "                    inferSchema=True, header=True)\n",
        "df.show(5)"
      ],
      "metadata": {
        "colab": {
          "base_uri": "https://localhost:8080/"
        },
        "id": "u2fvw5ytrwAu",
        "outputId": "ded03bd2-6350-4968-8777-23de80da288c"
      },
      "execution_count": 4,
      "outputs": [
        {
          "output_type": "stream",
          "name": "stdout",
          "text": [
            "+------------+----------+------------------+------------------+--------------------+---------+----------+-----------------+-------------------+-----+---------+--------------------+----+---------+-------------------+-------------------+------------------+--------------------+--------------------+--------------------+\n",
            "|decease_date|birth_date|               tod|         daylength|          gdaylength|     flux|     gflux|              lat|               long|night|gr_lismex|                desc|sexo|causa_def|                 Br|                 Bt|                Bp|                 gBr|                 gBt|                 gBp|\n",
            "+------------+----------+------------------+------------------+--------------------+---------+----------+-----------------+-------------------+-----+---------+--------------------+----+---------+-------------------+-------------------+------------------+--------------------+--------------------+--------------------+\n",
            "|  2011-12-27|1929-01-06|16.583333333333332|11.615353140121234|-0.00207899014860...|628.69946| 278.81348|21.83113718335684|-102.28169322849084|false|      028|Enfermedades isqu...|   1|     I259| -58363.90225274358| -4463.722041891099| 359.5595715715627|-0.00894345828419...|0.009169747980195098|0.002491510963920973|\n",
            "|  2011-09-29|1939-01-21|19.916666666666668|12.708723853154206|0.021519384338454017|      0.0|       0.0|22.13961531092437|-102.04078007563025| true|      030|Enfermedades cere...|   1|     I619|-58410.841474396446| -4570.345790651583| 360.0088219049171|-0.00889301086135...| 0.00916000631696079|0.002486121939341...|\n",
            "|  2011-09-29|1925-04-25|20.333333333333332|12.709252278538676|0.021184076620460957|      0.0|       0.0|21.83113718335684|-102.28169322849084| true|      033|Otras enfermedade...|   1|     J64X| -58382.74317953628| -4444.147450277743| 364.9292632410546|-0.00872438426449662|0.009187477444356773|0.002541539101116541|\n",
            "|  2011-08-19|1963-04-25|17.833333333333332|13.595417197003577|  0.0206407552693193|      0.0|       0.0|21.83113718335684|-102.28169322849084| true|      010|Tumor maligno de ...|   2|     C349| -58391.29690600454|-4435.0825072914795|367.44469959329547|-0.00861713501217...|0.009190003264848201|0.002557361291053...|\n",
            "|  2012-03-15|1942-03-15|              9.25|12.708175579373028|-0.02125821584276...|1058.5378|-181.98178|21.83113718335684|-102.28169322849084|false|      028|Enfermedades isqu...|   2|     I219|-58346.854022637104|-4481.0090150273345| 354.9106908681944|-0.00910239003860...| 0.00913154493264301|0.002428083336440068|\n",
            "+------------+----------+------------------+------------------+--------------------+---------+----------+-----------------+-------------------+-----+---------+--------------------+----+---------+-------------------+-------------------+------------------+--------------------+--------------------+--------------------+\n",
            "only showing top 5 rows\n",
            "\n"
          ]
        }
      ]
    },
    {
      "cell_type": "code",
      "source": [
        "# Edad\n",
        "df = df.withColumn(\"edad_dias\", datediff(col(\"decease_date\"), col(\"birth_date\")))\n",
        "df = df.withColumn(\"edad\", floor(col(\"edad_dias\") / 365.25))"
      ],
      "metadata": {
        "id": "Ebtg_tQ6suiu"
      },
      "execution_count": 5,
      "outputs": []
    },
    {
      "cell_type": "code",
      "source": [
        "# Separamos las principales columnas que vamos a utilizar\n",
        "df = df.select(df.edad, df.night, df.gr_lismex, df.sexo, df.causa_def)\n",
        "df.show(5)"
      ],
      "metadata": {
        "colab": {
          "base_uri": "https://localhost:8080/"
        },
        "id": "Bh6vizWI3lJX",
        "outputId": "f5021c2f-b21d-4098-a04f-6f3e67ad5d98"
      },
      "execution_count": 6,
      "outputs": [
        {
          "output_type": "stream",
          "name": "stdout",
          "text": [
            "+----+-----+---------+----+---------+\n",
            "|edad|night|gr_lismex|sexo|causa_def|\n",
            "+----+-----+---------+----+---------+\n",
            "|  82|false|      028|   1|     I259|\n",
            "|  72| true|      030|   1|     I619|\n",
            "|  86| true|      033|   1|     J64X|\n",
            "|  48| true|      010|   2|     C349|\n",
            "|  70|false|      028|   2|     I219|\n",
            "+----+-----+---------+----+---------+\n",
            "only showing top 5 rows\n",
            "\n"
          ]
        }
      ]
    },
    {
      "cell_type": "code",
      "source": [
        "# Diccionario con combinaciones\n",
        "combinaciones = {\n",
        "    \"A\": ((20, 39), 2),  # Mujer 20-39\n",
        "    \"B\": ((20, 39), 1),  # Hombre 20-39\n",
        "    \"C\": ((40, 59), 2),  # Mujer 40-59\n",
        "    \"D\": ((40, 59), 1),  # Hombre 40-59\n",
        "    \"E\": ((60, 120), 2), # Mujer 60+\n",
        "    \"F\": ((60, 120), 1), # Hombre 60+\n",
        "}\n",
        "\n",
        "# Crear particiones en un diccionario de DataFrames\n",
        "particiones = {}\n",
        "total = df.count()"
      ],
      "metadata": {
        "id": "swa2gbbhrv-B"
      },
      "execution_count": 7,
      "outputs": []
    },
    {
      "cell_type": "code",
      "source": [
        "for clave, ((edad_min, edad_max), sexo) in combinaciones.items():\n",
        "    particiones[clave] = df.filter(\n",
        "        (col(\"edad\") >= edad_min) &\n",
        "        (col(\"edad\") <= edad_max) &\n",
        "        (col(\"sexo\") == sexo)\n",
        "    )\n",
        "    print(f\"Partición {clave} lista: Edad {edad_min}-{edad_max}, Sexo {sexo}\")"
      ],
      "metadata": {
        "colab": {
          "base_uri": "https://localhost:8080/"
        },
        "id": "GqLKy3P5y2nO",
        "outputId": "347fb1fc-97dd-4d28-95bd-114083bcc8ea"
      },
      "execution_count": 8,
      "outputs": [
        {
          "output_type": "stream",
          "name": "stdout",
          "text": [
            "Partición A lista: Edad 20-39, Sexo 2\n",
            "Partición B lista: Edad 20-39, Sexo 1\n",
            "Partición C lista: Edad 40-59, Sexo 2\n",
            "Partición D lista: Edad 40-59, Sexo 1\n",
            "Partición E lista: Edad 60-120, Sexo 2\n",
            "Partición F lista: Edad 60-120, Sexo 1\n"
          ]
        }
      ]
    },
    {
      "cell_type": "code",
      "source": [
        "for clave, subset in particiones.items():\n",
        "    count = subset.count()\n",
        "    porcentaje = round((count / total) * 100, 2)\n",
        "    print(f\"Partición {clave}: {count} registros ({porcentaje}%)\")"
      ],
      "metadata": {
        "colab": {
          "base_uri": "https://localhost:8080/"
        },
        "id": "ObXOTWzdy4Jb",
        "outputId": "beadb275-9a38-42e9-fc44-eb7053f45b5b"
      },
      "execution_count": 9,
      "outputs": [
        {
          "output_type": "stream",
          "name": "stdout",
          "text": [
            "Partición A: 167087 registros (2.2%)\n",
            "Partición B: 472717 registros (6.24%)\n",
            "Partición C: 575399 registros (7.59%)\n",
            "Partición D: 961036 registros (12.68%)\n",
            "Partición E: 2423358 registros (31.98%)\n",
            "Partición F: 2563269 registros (33.82%)\n"
          ]
        }
      ]
    },
    {
      "cell_type": "code",
      "source": [
        "# Guardamos en CSVs\n",
        "for clave, subset in particiones.items():\n",
        "    subset.sample(False, 0.01).limit(1000).toPandas().to_csv(f\"particion_{clave}.csv\", index=False)\n",
        "    print(f\"Partición {clave} exportada\")"
      ],
      "metadata": {
        "colab": {
          "base_uri": "https://localhost:8080/"
        },
        "id": "3LS0kLa_rv4E",
        "outputId": "bda05280-cb09-4a9b-99bf-c2f2e20608fb"
      },
      "execution_count": 10,
      "outputs": [
        {
          "output_type": "stream",
          "name": "stdout",
          "text": [
            "Partición A exportada\n",
            "Partición B exportada\n",
            "Partición C exportada\n",
            "Partición D exportada\n",
            "Partición E exportada\n",
            "Partición F exportada\n"
          ]
        }
      ]
    },
    {
      "cell_type": "code",
      "source": [
        "# Muestreo\n",
        "tamano_muestra_total = 10000\n",
        "\n",
        "# Probabilidades de ocurrencia\n",
        "proporciones = {\n",
        "    \"A\": 0.168,  # Mujer 20–39\n",
        "    \"B\": 0.132,  # Hombre 20–39\n",
        "    \"C\": 0.196,  # Mujer 40–59\n",
        "    \"D\": 0.154,  # Hombre 40–59\n",
        "    \"E\": 0.196,  # Mujer 60+\n",
        "    \"F\": 0.154,  # Hombre 60+\n",
        "}\n",
        "\n",
        "# Diccionario para guardar las muestras\n",
        "muestras = {}"
      ],
      "metadata": {
        "id": "7--4160hszp9"
      },
      "execution_count": 11,
      "outputs": []
    },
    {
      "cell_type": "code",
      "source": [
        "for clave, df_part in particiones.items():\n",
        "    fraccion = proporciones[clave]\n",
        "    tamano_muestra = int(tamano_muestra_total * fraccion)\n",
        "    muestras[clave] = df_part.sample(False, fraction=1.0).limit(tamano_muestra)\n",
        "    print(f\"Muestra {clave} generada con {tamano_muestra} registros\")"
      ],
      "metadata": {
        "colab": {
          "base_uri": "https://localhost:8080/"
        },
        "id": "CVNc-4OpsznZ",
        "outputId": "64f079a2-a7ca-48f1-f4d4-94354171a6f2"
      },
      "execution_count": 12,
      "outputs": [
        {
          "output_type": "stream",
          "name": "stdout",
          "text": [
            "Muestra A generada con 1680 registros\n",
            "Muestra B generada con 1320 registros\n",
            "Muestra C generada con 1960 registros\n",
            "Muestra D generada con 1540 registros\n",
            "Muestra E generada con 1960 registros\n",
            "Muestra F generada con 1540 registros\n"
          ]
        }
      ]
    },
    {
      "cell_type": "code",
      "source": [
        "# Lista con todos los DF de la muestra\n",
        "lista_muestras = list(muestras.values())\n",
        "\n",
        "# Reduce\n",
        "M = reduce(DataFrame.unionByName, lista_muestras)\n",
        "print(f\"Tamaño total de la muestra M: {M.count()} registros\")"
      ],
      "metadata": {
        "colab": {
          "base_uri": "https://localhost:8080/"
        },
        "id": "rXTh2fqJszks",
        "outputId": "289dda8e-aa2b-48d8-d643-8ae8e5375e56"
      },
      "execution_count": 13,
      "outputs": [
        {
          "output_type": "stream",
          "name": "stdout",
          "text": [
            "Tamaño total de la muestra M: 10000 registros\n"
          ]
        }
      ]
    },
    {
      "cell_type": "code",
      "source": [
        "# Muestra final\n",
        "M.toPandas().to_csv(\"muestra_representativa.csv\", index=False)"
      ],
      "metadata": {
        "id": "x_wdTwNW1LVW"
      },
      "execution_count": 14,
      "outputs": []
    },
    {
      "cell_type": "markdown",
      "source": [
        "## 3. Preparación de los datos"
      ],
      "metadata": {
        "id": "9GCSbcRs2NtK"
      }
    },
    {
      "cell_type": "code",
      "source": [
        "# Cargar la muestra M\n",
        "M = spark.read.csv(\"muestra_representativa.csv\", header=True, inferSchema=True)"
      ],
      "metadata": {
        "id": "dJ4CCMdK2TnZ"
      },
      "execution_count": 15,
      "outputs": []
    },
    {
      "cell_type": "code",
      "source": [
        "# Eliminar valores nulos\n",
        "M = M.dropna()"
      ],
      "metadata": {
        "id": "PZ9yxQJ72nG6"
      },
      "execution_count": 16,
      "outputs": []
    },
    {
      "cell_type": "code",
      "source": [
        "# Valores atipicos con percentiles\n",
        "Q1 = M.approxQuantile(\"edad\", [0.25], 0.01)[0]\n",
        "Q3 = M.approxQuantile(\"edad\", [0.75], 0.01)[0]\n",
        "IQR = Q3 - Q1\n",
        "lower_bound = Q1 - 1.5 * IQR\n",
        "upper_bound = Q3 + 1.5 * IQR\n",
        "\n",
        "# Filtrar valores dentro del rango aceptable\n",
        "M = M.filter((M[\"edad\"] >= lower_bound) & (M[\"edad\"] <= upper_bound))"
      ],
      "metadata": {
        "id": "lVshg5p82nB9"
      },
      "execution_count": 17,
      "outputs": []
    },
    {
      "cell_type": "code",
      "source": [
        "# Categorical a integer\n",
        "categorical_cols = [col for col, dtype in M.dtypes if dtype == \"string\"]\n",
        "for col in categorical_cols:\n",
        "    indexer = StringIndexer(inputCol=col, outputCol=col + \"_index\")\n",
        "    M = indexer.fit(M).transform(M)"
      ],
      "metadata": {
        "id": "uTwzGF_02m_Q"
      },
      "execution_count": 18,
      "outputs": []
    },
    {
      "cell_type": "code",
      "source": [
        "# Nigth a numerico\n",
        "M = M.withColumn(\"night_num\", when(M[\"night\"] == True, 1).when(M[\"night\"] == False, 0))"
      ],
      "metadata": {
        "id": "v9WeR7kj9FRR"
      },
      "execution_count": 19,
      "outputs": []
    },
    {
      "cell_type": "code",
      "source": [
        "# Volvemos a filtrar las variables\n",
        "M = M.select(M.edad, M.night_num, M.gr_lismex_index, M.sexo, M.causa_def_index)"
      ],
      "metadata": {
        "id": "u2GysWn99wpl"
      },
      "execution_count": 20,
      "outputs": []
    },
    {
      "cell_type": "code",
      "source": [
        "M.show(5)"
      ],
      "metadata": {
        "colab": {
          "base_uri": "https://localhost:8080/"
        },
        "id": "KmrLzDfm2m78",
        "outputId": "54ab9cac-0d6f-40cf-d27a-7583e8d8111e"
      },
      "execution_count": 21,
      "outputs": [
        {
          "output_type": "stream",
          "name": "stdout",
          "text": [
            "+----+---------+---------------+----+---------------+\n",
            "|edad|night_num|gr_lismex_index|sexo|causa_def_index|\n",
            "+----+---------+---------------+----+---------------+\n",
            "|  26|        1|            2.0|   2|            3.0|\n",
            "|  30|        0|           25.0|   2|           90.0|\n",
            "|  38|        1|            2.0|   2|          780.0|\n",
            "|  34|        0|            7.0|   2|            9.0|\n",
            "|  21|        1|            0.0|   2|          255.0|\n",
            "+----+---------+---------------+----+---------------+\n",
            "only showing top 5 rows\n",
            "\n"
          ]
        }
      ]
    },
    {
      "cell_type": "code",
      "source": [
        "# Guardamos los datos preporcesados\n",
        "M.toPandas().to_csv(\"muestra_preprocesada.csv\", index=False)"
      ],
      "metadata": {
        "id": "ihaT1Ucu78To"
      },
      "execution_count": 22,
      "outputs": []
    },
    {
      "cell_type": "markdown",
      "source": [
        "## 4. Preparación del conjunto de entrenamiento y prueba"
      ],
      "metadata": {
        "id": "6OiDDNFa8NPf"
      }
    },
    {
      "cell_type": "code",
      "source": [
        "# Cargar la muestra preprocesada\n",
        "M = spark.read.csv(\"muestra_preprocesada.csv\", header=True, inferSchema=True)"
      ],
      "metadata": {
        "id": "_W-svBst8xaa"
      },
      "execution_count": 23,
      "outputs": []
    },
    {
      "cell_type": "code",
      "source": [
        "# Vectorizar las características\n",
        "assembler = VectorAssembler(inputCols=[\"edad\", \"sexo\", \"gr_lismex_index\", \"causa_def_index\", \"night_num\"], outputCol=\"Attributes\")\n",
        "M = assembler.transform(M)"
      ],
      "metadata": {
        "id": "7l3wXp2r87ym"
      },
      "execution_count": 24,
      "outputs": []
    },
    {
      "cell_type": "code",
      "source": [
        "# Como ya s eestratifico anteriormente, entonces solo aplicamos Train Tet Random Split\n",
        "train, test = M.randomSplit([0.8, 0.2], seed=1804)\n",
        "print(f\"Tamaño del conjunto de entrenamiento: {train.count()}\")\n",
        "print(f\"Tamaño del conjunto de prueba: {test.count()}\")"
      ],
      "metadata": {
        "id": "gfSSHph78Sdi",
        "colab": {
          "base_uri": "https://localhost:8080/"
        },
        "outputId": "7b6020b4-8137-457a-e41f-10d4f7e939d3"
      },
      "execution_count": 25,
      "outputs": [
        {
          "output_type": "stream",
          "name": "stdout",
          "text": [
            "Tamaño del conjunto de entrenamiento: 8062\n",
            "Tamaño del conjunto de prueba: 1938\n"
          ]
        }
      ]
    },
    {
      "cell_type": "code",
      "source": [
        "# Assembler\n",
        "train.show(5)\n",
        "test.show(5)"
      ],
      "metadata": {
        "colab": {
          "base_uri": "https://localhost:8080/"
        },
        "id": "_LyjyhjYWP44",
        "outputId": "3d573c58-9e91-4fcf-80a1-fd28e91662ac"
      },
      "execution_count": 26,
      "outputs": [
        {
          "output_type": "stream",
          "name": "stdout",
          "text": [
            "+----+---------+---------------+----+---------------+--------------------+\n",
            "|edad|night_num|gr_lismex_index|sexo|causa_def_index|          Attributes|\n",
            "+----+---------+---------------+----+---------------+--------------------+\n",
            "|  20|        0|            0.0|   1|          157.0|[20.0,1.0,0.0,157...|\n",
            "|  20|        0|            1.0|   2|            0.0|[20.0,2.0,1.0,0.0...|\n",
            "|  20|        0|            2.0|   1|           98.0|[20.0,1.0,2.0,98....|\n",
            "|  20|        0|            3.0|   1|          265.0|[20.0,1.0,3.0,265...|\n",
            "|  20|        0|            3.0|   2|           64.0|[20.0,2.0,3.0,64....|\n",
            "+----+---------+---------------+----+---------------+--------------------+\n",
            "only showing top 5 rows\n",
            "\n",
            "+----+---------+---------------+----+---------------+--------------------+\n",
            "|edad|night_num|gr_lismex_index|sexo|causa_def_index|          Attributes|\n",
            "+----+---------+---------------+----+---------------+--------------------+\n",
            "|  20|        0|            3.0|   2|           97.0|[20.0,2.0,3.0,97....|\n",
            "|  20|        0|            4.0|   2|           33.0|[20.0,2.0,4.0,33....|\n",
            "|  20|        0|            4.0|   2|           48.0|[20.0,2.0,4.0,48....|\n",
            "|  20|        0|           10.0|   2|          835.0|[20.0,2.0,10.0,83...|\n",
            "|  20|        0|           31.0|   2|          519.0|[20.0,2.0,31.0,51...|\n",
            "+----+---------+---------------+----+---------------+--------------------+\n",
            "only showing top 5 rows\n",
            "\n"
          ]
        }
      ]
    },
    {
      "cell_type": "markdown",
      "source": [
        "## 5 Construcción de modelos"
      ],
      "metadata": {
        "id": "bLR4NATRKaiM"
      }
    },
    {
      "cell_type": "markdown",
      "source": [
        "### Aprendizaje Supervisado"
      ],
      "metadata": {
        "id": "7C4B_ybeKfEP"
      }
    },
    {
      "cell_type": "code",
      "source": [
        "# Random Forest\n",
        "rf = RandomForestClassifier(featuresCol=\"Attributes\", labelCol=\"sexo\", numTrees=2)\n",
        "\n",
        "# Entrenar el modelo\n",
        "model = rf.fit(train)\n",
        "\n",
        "# Predicciones\n",
        "predictions = model.transform(test)\n",
        "\n",
        "# Evaluar el modelo\n",
        "evaluator = MulticlassClassificationEvaluator(labelCol=\"sexo\", metricName=\"accuracy\")\n",
        "accuracy = evaluator.evaluate(predictions)\n",
        "\n",
        "print(f\"Accuracy del modelo supervisado: {accuracy:.2f}\")"
      ],
      "metadata": {
        "colab": {
          "base_uri": "https://localhost:8080/"
        },
        "id": "lJQ58NlFKedy",
        "outputId": "4efc2fa8-5be3-49a6-8fa0-91edb7a28ddb"
      },
      "execution_count": 27,
      "outputs": [
        {
          "output_type": "stream",
          "name": "stdout",
          "text": [
            "Accuracy del modelo supervisado: 1.00\n"
          ]
        }
      ]
    },
    {
      "cell_type": "markdown",
      "source": [
        "### Aprendizaje No Supervisado"
      ],
      "metadata": {
        "id": "XA2aHfK0KjXP"
      }
    },
    {
      "cell_type": "code",
      "source": [
        "# K-Means\n",
        "kmeans = KMeans(featuresCol=\"Attributes\", k=2)\n",
        "\n",
        "# Entrenar el modelo\n",
        "model = kmeans.fit(M)\n",
        "\n",
        "# Predicciones\n",
        "predictions = model.transform(M)\n",
        "\n",
        "# Evaluar el modelo\n",
        "evaluator = ClusteringEvaluator(featuresCol=\"Attributes\")\n",
        "silhouette = evaluator.evaluate(predictions)\n",
        "\n",
        "print(f\"Silhouette Score del modelo K-Means: {silhouette:.2f}\")"
      ],
      "metadata": {
        "colab": {
          "base_uri": "https://localhost:8080/"
        },
        "id": "BRsRVzHyKmdM",
        "outputId": "f33e4660-9c1c-4de1-cf98-6c2728b83e0d"
      },
      "execution_count": 28,
      "outputs": [
        {
          "output_type": "stream",
          "name": "stdout",
          "text": [
            "Silhouette Score del modelo K-Means: 0.91\n"
          ]
        }
      ]
    },
    {
      "cell_type": "markdown",
      "source": [
        "## Conclusiones"
      ],
      "metadata": {
        "id": "Y_o16IORfs9R"
      }
    },
    {
      "cell_type": "markdown",
      "source": [
        "A lo largo de esta actividad aprendimos cómo construir un proyecto de ML, desde los grandes volúmenes de datos, hasta la partición, estratificación, modelado, etc.\n",
        "\n",
        "Como podemos observar los resultados, el modelo de random forest está sobre entrenado, esto se deberá a la partición de los datos, el mismo modelaje, etc.\n",
        "\n",
        "El modelo no supervisado tiene datos sentro de lo correctamente establecido, esto por que, como definimos un cluster de 2, y buscmos seprar a las personas por sexo (hombre o mujer) el algoritmo logra diferenciar estas caracteristicas."
      ],
      "metadata": {
        "id": "gaN8VDkVfskg"
      }
    }
  ]
}